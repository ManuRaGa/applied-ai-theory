{
 "cells": [
  {
   "cell_type": "code",
   "execution_count": 144,
   "id": "baf9b0e7-b741-4be6-9765-968d24e987f9",
   "metadata": {},
   "outputs": [],
   "source": [
    "import numpy as np\n",
    "from tensorflow import keras\n",
    "from tensorflow.keras.models import Sequential\n",
    "from tensorflow.keras.layers import Dense\n",
    "from tensorflow.keras.utils import to_categorical\n",
    "from tensorflow.keras.regularizers import l1\n",
    "from tensorflow.keras.layers import Dropout\n",
    "\n",
    "from sklearn.model_selection import train_test_split\n",
    "from sklearn.datasets import load_iris"
   ]
  },
  {
   "cell_type": "code",
   "execution_count": 145,
   "id": "5e649b80-17eb-4901-a18f-f68738acb40c",
   "metadata": {},
   "outputs": [],
   "source": [
    "# Cargar el dataset Iris\n",
    "iris = load_iris()\n",
    "X = iris.data  # Características (150 muestras, 4 características)\n",
    "y = iris.target  # Etiquetas (especies)\n",
    "\n",
    "# Convertir y a una variable continua (por ejemplo, usar el ancho del pétalo como objetivo)\n",
    "y = to_categorical(y)  # One-hot encoding (ej: [1, 0, 0] para setosa)"
   ]
  },
  {
   "cell_type": "code",
   "execution_count": 146,
   "id": "cfa6018b-994f-4dc9-b8d8-eb7b968dc5cf",
   "metadata": {},
   "outputs": [],
   "source": [
    "# Dividir los datos en conjuntos de entrenamiento y prueba\n",
    "X_train, X_temp, y_train, y_temp = train_test_split(X, y, test_size=0.4, random_state=42)\n",
    "X_cv, X_test, y_cv, y_test = train_test_split(X_temp, y_temp, test_size=0.5, random_state=42)"
   ]
  },
  {
   "cell_type": "code",
   "execution_count": 147,
   "id": "870553d4-26cf-4d27-9b3e-156c49b5d4e3",
   "metadata": {},
   "outputs": [
    {
     "name": "stdout",
     "output_type": "stream",
     "text": [
      "(90, 4)\n",
      "(30, 4)\n",
      "(30, 4)\n"
     ]
    }
   ],
   "source": [
    "print(X_train.shape)\n",
    "print(X_test.shape)\n",
    "print(X_cv.shape)"
   ]
  },
  {
   "cell_type": "code",
   "execution_count": 148,
   "id": "de1633a9-bd22-447c-9c93-ecd4b07612a5",
   "metadata": {},
   "outputs": [],
   "source": [
    "# Diseñar la red neuronal\n",
    "model = Sequential([\n",
    "    keras.Input(shape=(X_train.shape[1],)),\n",
    "    Dense(200, activation='relu'),\n",
    "    Dense(200, activation='relu'),\n",
    "    Dense(3,activation='softmax')\n",
    "])"
   ]
  },
  {
   "cell_type": "code",
   "execution_count": 149,
   "id": "0b32c347-e9a9-4034-a4ad-4ce8bcc90d7a",
   "metadata": {},
   "outputs": [],
   "source": [
    "# Compilar el modelo\n",
    "model.compile(optimizer='adam', loss='mse',metrics=['accuracy'])"
   ]
  },
  {
   "cell_type": "code",
   "execution_count": 150,
   "id": "914015b1-6d28-4ba6-b326-f7ac382620f2",
   "metadata": {
    "scrolled": true
   },
   "outputs": [
    {
     "name": "stdout",
     "output_type": "stream",
     "text": [
      "Epoch 1/20\n"
     ]
    },
    {
     "name": "stdout",
     "output_type": "stream",
     "text": [
      "\u001b[1m3/3\u001b[0m \u001b[32m━━━━━━━━━━━━━━━━━━━━\u001b[0m\u001b[37m\u001b[0m \u001b[1m3s\u001b[0m 235ms/step - accuracy: 0.4564 - loss: 0.1966 - val_accuracy: 0.8000 - val_loss: 0.1332\n",
      "Epoch 2/20\n",
      "\u001b[1m3/3\u001b[0m \u001b[32m━━━━━━━━━━━━━━━━━━━━\u001b[0m\u001b[37m\u001b[0m \u001b[1m0s\u001b[0m 76ms/step - accuracy: 0.6391 - loss: 0.1680 - val_accuracy: 0.9000 - val_loss: 0.1236\n",
      "Epoch 3/20\n",
      "\u001b[1m3/3\u001b[0m \u001b[32m━━━━━━━━━━━━━━━━━━━━\u001b[0m\u001b[37m\u001b[0m \u001b[1m0s\u001b[0m 67ms/step - accuracy: 0.8085 - loss: 0.1397 - val_accuracy: 0.8000 - val_loss: 0.0972\n",
      "Epoch 4/20\n",
      "\u001b[1m3/3\u001b[0m \u001b[32m━━━━━━━━━━━━━━━━━━━━\u001b[0m\u001b[37m\u001b[0m \u001b[1m0s\u001b[0m 86ms/step - accuracy: 0.6872 - loss: 0.1162 - val_accuracy: 0.8000 - val_loss: 0.0823\n",
      "Epoch 5/20\n",
      "\u001b[1m3/3\u001b[0m \u001b[32m━━━━━━━━━━━━━━━━━━━━\u001b[0m\u001b[37m\u001b[0m \u001b[1m0s\u001b[0m 81ms/step - accuracy: 0.6898 - loss: 0.1094 - val_accuracy: 0.9333 - val_loss: 0.0840\n",
      "Epoch 6/20\n",
      "\u001b[1m3/3\u001b[0m \u001b[32m━━━━━━━━━━━━━━━━━━━━\u001b[0m\u001b[37m\u001b[0m \u001b[1m0s\u001b[0m 104ms/step - accuracy: 0.8747 - loss: 0.1059 - val_accuracy: 0.9667 - val_loss: 0.0833\n",
      "Epoch 7/20\n",
      "\u001b[1m3/3\u001b[0m \u001b[32m━━━━━━━━━━━━━━━━━━━━\u001b[0m\u001b[37m\u001b[0m \u001b[1m0s\u001b[0m 80ms/step - accuracy: 0.9187 - loss: 0.0986 - val_accuracy: 0.9000 - val_loss: 0.0665\n",
      "Epoch 8/20\n",
      "\u001b[1m3/3\u001b[0m \u001b[32m━━━━━━━━━━━━━━━━━━━━\u001b[0m\u001b[37m\u001b[0m \u001b[1m0s\u001b[0m 85ms/step - accuracy: 0.8023 - loss: 0.0890 - val_accuracy: 0.9333 - val_loss: 0.0632\n",
      "Epoch 9/20\n",
      "\u001b[1m3/3\u001b[0m \u001b[32m━━━━━━━━━━━━━━━━━━━━\u001b[0m\u001b[37m\u001b[0m \u001b[1m0s\u001b[0m 106ms/step - accuracy: 0.9142 - loss: 0.0830 - val_accuracy: 0.8667 - val_loss: 0.0719\n",
      "Epoch 10/20\n",
      "\u001b[1m3/3\u001b[0m \u001b[32m━━━━━━━━━━━━━━━━━━━━\u001b[0m\u001b[37m\u001b[0m \u001b[1m0s\u001b[0m 107ms/step - accuracy: 0.9087 - loss: 0.0774 - val_accuracy: 1.0000 - val_loss: 0.0579\n",
      "Epoch 11/20\n",
      "\u001b[1m3/3\u001b[0m \u001b[32m━━━━━━━━━━━━━━━━━━━━\u001b[0m\u001b[37m\u001b[0m \u001b[1m0s\u001b[0m 83ms/step - accuracy: 0.9510 - loss: 0.0690 - val_accuracy: 0.9333 - val_loss: 0.0482\n",
      "Epoch 12/20\n",
      "\u001b[1m3/3\u001b[0m \u001b[32m━━━━━━━━━━━━━━━━━━━━\u001b[0m\u001b[37m\u001b[0m \u001b[1m0s\u001b[0m 78ms/step - accuracy: 0.9031 - loss: 0.0697 - val_accuracy: 1.0000 - val_loss: 0.0484\n",
      "Epoch 13/20\n",
      "\u001b[1m3/3\u001b[0m \u001b[32m━━━━━━━━━━━━━━━━━━━━\u001b[0m\u001b[37m\u001b[0m \u001b[1m0s\u001b[0m 65ms/step - accuracy: 0.9465 - loss: 0.0640 - val_accuracy: 0.9667 - val_loss: 0.0542\n",
      "Epoch 14/20\n",
      "\u001b[1m3/3\u001b[0m \u001b[32m━━━━━━━━━━━━━━━━━━━━\u001b[0m\u001b[37m\u001b[0m \u001b[1m0s\u001b[0m 78ms/step - accuracy: 0.9315 - loss: 0.0581 - val_accuracy: 1.0000 - val_loss: 0.0419\n",
      "Epoch 15/20\n",
      "\u001b[1m3/3\u001b[0m \u001b[32m━━━━━━━━━━━━━━━━━━━━\u001b[0m\u001b[37m\u001b[0m \u001b[1m0s\u001b[0m 74ms/step - accuracy: 0.9276 - loss: 0.0604 - val_accuracy: 0.9667 - val_loss: 0.0361\n",
      "Epoch 16/20\n",
      "\u001b[1m3/3\u001b[0m \u001b[32m━━━━━━━━━━━━━━━━━━━━\u001b[0m\u001b[37m\u001b[0m \u001b[1m0s\u001b[0m 81ms/step - accuracy: 0.9488 - loss: 0.0512 - val_accuracy: 0.9667 - val_loss: 0.0413\n",
      "Epoch 17/20\n",
      "\u001b[1m3/3\u001b[0m \u001b[32m━━━━━━━━━━━━━━━━━━━━\u001b[0m\u001b[37m\u001b[0m \u001b[1m0s\u001b[0m 71ms/step - accuracy: 0.9393 - loss: 0.0465 - val_accuracy: 0.9667 - val_loss: 0.0405\n",
      "Epoch 18/20\n",
      "\u001b[1m3/3\u001b[0m \u001b[32m━━━━━━━━━━━━━━━━━━━━\u001b[0m\u001b[37m\u001b[0m \u001b[1m0s\u001b[0m 80ms/step - accuracy: 0.9582 - loss: 0.0453 - val_accuracy: 1.0000 - val_loss: 0.0292\n",
      "Epoch 19/20\n",
      "\u001b[1m3/3\u001b[0m \u001b[32m━━━━━━━━━━━━━━━━━━━━\u001b[0m\u001b[37m\u001b[0m \u001b[1m0s\u001b[0m 106ms/step - accuracy: 0.9527 - loss: 0.0418 - val_accuracy: 1.0000 - val_loss: 0.0314\n",
      "Epoch 20/20\n",
      "\u001b[1m3/3\u001b[0m \u001b[32m━━━━━━━━━━━━━━━━━━━━\u001b[0m\u001b[37m\u001b[0m \u001b[1m0s\u001b[0m 67ms/step - accuracy: 0.9410 - loss: 0.0433 - val_accuracy: 1.0000 - val_loss: 0.0331\n"
     ]
    }
   ],
   "source": [
    "# Entrenar el modelo\n",
    "#model.fit(X_train, y_train, epochs=10, batch_size=32, validation_split=0.2)\n",
    "history = model.fit(X_train, y_train, epochs=20, validation_data=(X_cv, y_cv))"
   ]
  },
  {
   "cell_type": "code",
   "execution_count": 151,
   "id": "b2911516-cbd1-4ece-b8a4-9dffffa188e7",
   "metadata": {},
   "outputs": [
    {
     "name": "stdout",
     "output_type": "stream",
     "text": [
      "J_train en el conjunto de prueba:  [0.03829747810959816, 0.9555555582046509]\n",
      "J_cv en el conjunto de prueba:  [0.03314223513007164, 1.0]\n",
      "J_test en el conjunto de prueba:  [0.027056260034441948, 1.0]\n"
     ]
    }
   ],
   "source": [
    "# Evaluar el modelo en el conjunto de prueba\n",
    "J_train = model.evaluate(X_train, y_train, verbose=0)\n",
    "J_cv = model.evaluate(X_cv, y_cv, verbose=0)\n",
    "J_test = model.evaluate(X_test, y_test, verbose=0)\n",
    "print(\"J_train en el conjunto de prueba: \",J_train)\n",
    "print(\"J_cv en el conjunto de prueba: \", J_cv)\n",
    "print(\"J_test en el conjunto de prueba: \",J_test)"
   ]
  },
  {
   "cell_type": "markdown",
   "id": "9e15fde7-2d48-4122-a25a-4d8b37c90cd3",
   "metadata": {},
   "source": [
    "| Caso  | Interpretación | Solución        |\n",
    "|---------|------|--------------|\n",
    "| Jtrain≈Jtest≈Jcv​ y todos son altos     | Subajuste (underfitting)   | Aumentar la capacidad del modelo (más capas/neuronas)       |\n",
    "| Jtrain​ bajo, pero Jtest≫Jtrain​\t     | Sobreajuste (overfitting)   | Regularización, dropout o más datos |\n",
    "|  Jtest≈Jcv​, pero ambos son un poco más altos que Jtrain  | ✅\tModelo bien generalizado    | No necesita cambios       |\n"
   ]
  },
  {
   "cell_type": "code",
   "execution_count": 152,
   "id": "cbabe17c-8d93-420b-a83e-d3202b5b9938",
   "metadata": {},
   "outputs": [
    {
     "name": "stdout",
     "output_type": "stream",
     "text": [
      "MSE del modelo base: 0.22222222222222227\n"
     ]
    }
   ],
   "source": [
    "# MSE de predecir siempre la media\n",
    "y_mean = np.mean(y_train)\n",
    "mse_baseline = np.mean((y_train - y_mean) ** 2)\n",
    "\n",
    "print(\"MSE del modelo base:\", mse_baseline)"
   ]
  },
  {
   "cell_type": "markdown",
   "id": "4a2726c6-fece-4ba3-b6b7-8da9d63f60ae",
   "metadata": {},
   "source": [
    "Si Jtrain ≫ MSEbase, el modelo no está aprendiendo bien.\n",
    "\n",
    "Si Jtrain=0.24, pregúntate:\n",
    "\n",
    "    ¿Cuál es la escala de las etiquetas reales?\n",
    "        Si las salidas están en el rango [0,1], MSE = 0.24 es alto.\n",
    "        Si las salidas están entre [0,1000], MSE = 0.24 es muy bajo"
   ]
  },
  {
   "cell_type": "code",
   "execution_count": 153,
   "id": "cf39ae59-0f65-4675-81c3-185c1fb4987f",
   "metadata": {},
   "outputs": [
    {
     "data": {
      "text/plain": [
       "array([[0., 0., 1.],\n",
       "       [1., 0., 0.],\n",
       "       [1., 0., 0.],\n",
       "       [1., 0., 0.],\n",
       "       [0., 1., 0.],\n",
       "       [1., 0., 0.],\n",
       "       [0., 1., 0.],\n",
       "       [0., 0., 1.],\n",
       "       [1., 0., 0.],\n",
       "       [0., 1., 0.],\n",
       "       [0., 0., 1.],\n",
       "       [1., 0., 0.],\n",
       "       [0., 0., 1.],\n",
       "       [0., 0., 1.],\n",
       "       [0., 1., 0.],\n",
       "       [0., 1., 0.],\n",
       "       [0., 0., 1.],\n",
       "       [0., 1., 0.],\n",
       "       [1., 0., 0.],\n",
       "       [0., 1., 0.],\n",
       "       [0., 0., 1.],\n",
       "       [1., 0., 0.],\n",
       "       [1., 0., 0.],\n",
       "       [0., 1., 0.],\n",
       "       [0., 1., 0.],\n",
       "       [1., 0., 0.],\n",
       "       [0., 0., 1.],\n",
       "       [1., 0., 0.],\n",
       "       [1., 0., 0.],\n",
       "       [0., 1., 0.],\n",
       "       [0., 1., 0.],\n",
       "       [0., 0., 1.],\n",
       "       [0., 1., 0.],\n",
       "       [0., 0., 1.],\n",
       "       [0., 0., 1.],\n",
       "       [0., 1., 0.],\n",
       "       [1., 0., 0.],\n",
       "       [1., 0., 0.],\n",
       "       [0., 0., 1.],\n",
       "       [0., 0., 1.],\n",
       "       [1., 0., 0.],\n",
       "       [1., 0., 0.],\n",
       "       [1., 0., 0.],\n",
       "       [0., 1., 0.],\n",
       "       [0., 0., 1.],\n",
       "       [1., 0., 0.],\n",
       "       [0., 0., 1.],\n",
       "       [0., 0., 1.],\n",
       "       [1., 0., 0.],\n",
       "       [0., 1., 0.],\n",
       "       [0., 1., 0.],\n",
       "       [0., 0., 1.],\n",
       "       [0., 1., 0.],\n",
       "       [0., 0., 1.],\n",
       "       [1., 0., 0.],\n",
       "       [0., 0., 1.],\n",
       "       [0., 1., 0.],\n",
       "       [0., 0., 1.],\n",
       "       [0., 1., 0.],\n",
       "       [0., 1., 0.],\n",
       "       [0., 1., 0.],\n",
       "       [1., 0., 0.],\n",
       "       [0., 1., 0.],\n",
       "       [0., 1., 0.],\n",
       "       [1., 0., 0.],\n",
       "       [0., 1., 0.],\n",
       "       [0., 0., 1.],\n",
       "       [0., 0., 1.],\n",
       "       [1., 0., 0.],\n",
       "       [0., 1., 0.],\n",
       "       [0., 0., 1.],\n",
       "       [0., 0., 1.],\n",
       "       [1., 0., 0.],\n",
       "       [0., 0., 1.],\n",
       "       [1., 0., 0.],\n",
       "       [0., 1., 0.],\n",
       "       [0., 0., 1.],\n",
       "       [0., 0., 1.],\n",
       "       [0., 1., 0.],\n",
       "       [0., 0., 1.],\n",
       "       [0., 1., 0.],\n",
       "       [0., 1., 0.],\n",
       "       [0., 0., 1.],\n",
       "       [0., 0., 1.],\n",
       "       [1., 0., 0.],\n",
       "       [0., 1., 0.],\n",
       "       [0., 0., 1.],\n",
       "       [1., 0., 0.],\n",
       "       [0., 1., 0.],\n",
       "       [0., 0., 1.]])"
      ]
     },
     "execution_count": 153,
     "metadata": {},
     "output_type": "execute_result"
    }
   ],
   "source": [
    "y_train"
   ]
  },
  {
   "cell_type": "code",
   "execution_count": null,
   "id": "351075ce-92c6-4364-88d8-e6e0e0e902f6",
   "metadata": {},
   "outputs": [],
   "source": []
  },
  {
   "cell_type": "code",
   "execution_count": null,
   "id": "4b37bcf8-258f-41ea-b9d8-b7a2904ee3a6",
   "metadata": {},
   "outputs": [],
   "source": []
  },
  {
   "cell_type": "code",
   "execution_count": null,
   "id": "9ce781bf-310f-4b79-ab09-496119e51926",
   "metadata": {},
   "outputs": [],
   "source": []
  },
  {
   "cell_type": "code",
   "execution_count": null,
   "id": "3cfd233c-bd66-4d20-b437-33efb46fa0a4",
   "metadata": {},
   "outputs": [],
   "source": []
  },
  {
   "cell_type": "code",
   "execution_count": null,
   "id": "5ae15df4-e02f-49a1-bc0c-87c8b9608a1e",
   "metadata": {},
   "outputs": [],
   "source": []
  },
  {
   "cell_type": "code",
   "execution_count": null,
   "id": "125be66a-292d-4800-b1c9-f26e6b9317f9",
   "metadata": {},
   "outputs": [],
   "source": []
  },
  {
   "cell_type": "code",
   "execution_count": null,
   "id": "0f481e45-ab30-4792-83c9-26644006bd9e",
   "metadata": {},
   "outputs": [],
   "source": []
  },
  {
   "cell_type": "code",
   "execution_count": null,
   "id": "7837d97d-0ace-408f-ab9c-2bbd7a218775",
   "metadata": {},
   "outputs": [],
   "source": []
  },
  {
   "cell_type": "code",
   "execution_count": null,
   "id": "fecdab94-32dc-4207-9a66-9cc8b13ca5f1",
   "metadata": {},
   "outputs": [],
   "source": []
  },
  {
   "cell_type": "code",
   "execution_count": 154,
   "id": "1c2ca56d-7f00-47c2-a4e8-ae6f9ce0ae2b",
   "metadata": {},
   "outputs": [],
   "source": [
    "from tensorflow.keras.regularizers import l1\n",
    "\n",
    "model = Sequential([\n",
    "    Dense(4, activation='relu', kernel_regularizer=l1(0.01)),  # Regularización L1 - lambda\n",
    "    Dense(3, activation='softmax')  # Capa de salida\n",
    "])"
   ]
  },
  {
   "cell_type": "code",
   "execution_count": null,
   "id": "1b469294-2d75-42fc-859a-90af96b5faba",
   "metadata": {},
   "outputs": [],
   "source": []
  },
  {
   "cell_type": "code",
   "execution_count": null,
   "id": "24d6ae2c-2709-4b8d-91a5-7e8d44bf8aae",
   "metadata": {},
   "outputs": [],
   "source": []
  }
 ],
 "metadata": {
  "kernelspec": {
   "display_name": "Python 3",
   "language": "python",
   "name": "python3"
  },
  "language_info": {
   "codemirror_mode": {
    "name": "ipython",
    "version": 3
   },
   "file_extension": ".py",
   "mimetype": "text/x-python",
   "name": "python",
   "nbconvert_exporter": "python",
   "pygments_lexer": "ipython3",
   "version": "3.11.6"
  }
 },
 "nbformat": 4,
 "nbformat_minor": 5
}
