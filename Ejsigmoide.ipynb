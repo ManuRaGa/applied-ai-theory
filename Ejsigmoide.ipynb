{
 "cells": [
  {
   "cell_type": "markdown",
   "metadata": {},
   "source": [
    "Problema de admision de alumnos a la universidad\n",
    "\n",
    "Supongamos que eres el administrador de un departamento universitario y quieres determinar la probabilidad de admisión de cada solicitante en función de sus resultados en dos exámenes.\n",
    "\n",
    "    Tienes datos históricos de solicitantes anteriores que puedes usar como conjunto de entrenamiento para la regresión logística.\n",
    "    Para cada ejemplo de entrenamiento, cuentas con las calificaciones del solicitante en dos exámenes y la decisión de admisión.\n",
    "    Tu tarea es construir un modelo de clasificación que estime la probabilidad de admisión de un solicitante en función de sus puntuaciones en esos dos exámenes"
   ]
  },
  {
   "cell_type": "code",
   "execution_count": 5,
   "metadata": {},
   "outputs": [],
   "source": [
    "import numpy as np\n",
    "import pandas as pd\n",
    "import matplotlib.pyplot as plt\n",
    "import math"
   ]
  },
  {
   "cell_type": "code",
   "execution_count": 6,
   "metadata": {},
   "outputs": [],
   "source": [
    "#Leer el archivo CSV\n",
    "\n",
    "data_x = np.loadtxt(\"C:/Users/HUAWEI/Desktop/IA/datos_x.csv\", delimiter=\",\")\n",
    "data_y = np.loadtxt(\"C:/Users/HUAWEI/Desktop/IA/datos_y.csv\", delimiter=\",\")"
   ]
  },
  {
   "cell_type": "code",
   "execution_count": 7,
   "metadata": {},
   "outputs": [],
   "source": [
    "x_init = data_x\n",
    "y_init = data_y\n",
    "m, n = x_init.shape\n",
    "w_init = np.zeros(n)\n",
    "b_init = 0"
   ]
  },
  {
   "cell_type": "code",
   "execution_count": 8,
   "metadata": {},
   "outputs": [
    {
     "data": {
      "image/png": "[encoded data removed]",
      "text/plain": [
       "<Figure size 640x480 with 1 Axes>"
      ]
     },
     "metadata": {},
     "output_type": "display_data"
    }
   ],
   "source": [
    "# Definir el umbral para la clasificación (puedes ajustarlo)\n",
    "umbral = 0.5\n",
    "\n",
    "# Filtrar los puntos según el valor de y\n",
    "x_class0 = data_x[data_y < umbral]  # Puntos donde y < umbral (azul)\n",
    "x_class1 = data_x[data_y >= umbral] # Puntos donde y >= umbral (rojo)\n",
    "\n",
    "# Graficar puntos con diferente color según y\n",
    "plt.scatter(x_class0[:, 0], x_class0[:, 1], marker='x', color='black', label=f\"y < {umbral}\")\n",
    "plt.scatter(x_class1[:, 0], x_class1[:, 1], marker='x', color='yellow', label=f\"y >= {umbral}\")\n",
    "\n",
    "# Etiquetas y leyenda\n",
    "plt.xlabel(\"x(100,0)\")\n",
    "plt.ylabel(\"x(100,1)\")\n",
    "plt.title(\"Gráfico de x(100,0) vs x(100,1) con color según y\")\n",
    "plt.legend()\n",
    "plt.show()"
   ]
  },
  {
   "cell_type": "code",
   "execution_count": 9,
   "metadata": {},
   "outputs": [],
   "source": [
    "def sigmoide(x, y, w, b):\n",
    "    fwb = np.dot(x, w) + b\n",
    "    z = 1 / (1 + np.exp(-fwb))\n",
    "    return z"
   ]
  },
  {
   "cell_type": "code",
   "execution_count": 10,
   "metadata": {},
   "outputs": [
    {
     "name": "stdout",
     "output_type": "stream",
     "text": [
      "[0.5 0.5 0.5 0.5 0.5 0.5 0.5 0.5 0.5 0.5 0.5 0.5 0.5 0.5 0.5 0.5 0.5 0.5\n",
      " 0.5 0.5 0.5 0.5 0.5 0.5 0.5 0.5 0.5 0.5 0.5 0.5 0.5 0.5 0.5 0.5 0.5 0.5\n",
      " 0.5 0.5 0.5 0.5 0.5 0.5 0.5 0.5 0.5 0.5 0.5 0.5 0.5 0.5 0.5 0.5 0.5 0.5\n",
      " 0.5 0.5 0.5 0.5 0.5 0.5 0.5 0.5 0.5 0.5 0.5 0.5 0.5 0.5 0.5 0.5 0.5 0.5\n",
      " 0.5 0.5 0.5 0.5 0.5 0.5 0.5 0.5 0.5 0.5 0.5 0.5 0.5 0.5 0.5 0.5 0.5 0.5\n",
      " 0.5 0.5 0.5 0.5 0.5 0.5 0.5 0.5 0.5 0.5 0.5]\n"
     ]
    }
   ],
   "source": [
    "sig = sigmoide(x_init, y_init, w_init, b_init)\n",
    "print(sig)"
   ]
  },
  {
   "cell_type": "code",
   "execution_count": 20,
   "metadata": {},
   "outputs": [],
   "source": [
    "def cal_cost(x, y, w, b):\n",
    "    m, n = x.shape\n",
    "    costo = 0\n",
    "    for i in range(m):\n",
    "        fwb = np.dot(x[i], w) + b\n",
    "        g = 1 / (1 + np.exp(-fwb))\n",
    "        costo = costo - (y[i] * np.log(g) + (1 - y[i]) * np.log(g))\n",
    "    costo = costo * (1 / m)\n",
    "    return costo"
   ]
  },
  {
   "cell_type": "code",
   "execution_count": 21,
   "metadata": {},
   "outputs": [],
   "source": [
    "def descenso_gradiente(x, y, w, b, alpha, iters):\n",
    "    m, n = x.shape\n",
    "    for k in range(iters):\n",
    "        J = cal_cost(x, y, w, b)\n",
    "        if k% math.ceil(iters / 10) == 0:\n",
    "            print(\"Iteracion: {} Costo: {}\".format(k, J))\n",
    "        if J < 0.01:\n",
    "            break\n",
    "        dw = np.zeros((n,))\n",
    "        db = 0.0\n",
    "        for i in range(m):\n",
    "            fwb = np.dot(x[i], w) + b\n",
    "            g = 1 / (1 + np.exp(-fwb))\n",
    "            y_aprox = (g - y[i])\n",
    "            for j in range(n):\n",
    "                dw[j] = dw[j] + y_aprox * x[i, j]\n",
    "            db = db + y_aprox\n",
    "        w = w - alpha * dw / m\n",
    "        b = b - alpha * db / m\n",
    "    return w, b"
   ]
  },
  {
   "cell_type": "code",
   "execution_count": 22,
   "metadata": {},
   "outputs": [
    {
     "name": "stdout",
     "output_type": "stream",
     "text": [
      "Iteracion: 0 Costo: 7.996568206977198\n",
      "Iteracion: 1000 Costo: 0.7422643636897678\n",
      "Iteracion: 2000 Costo: 0.743307731977365\n",
      "Iteracion: 3000 Costo: 0.7443483007099585\n",
      "Iteracion: 4000 Costo: 0.7453860840721634\n",
      "Iteracion: 5000 Costo: 0.746421096156521\n",
      "Iteracion: 6000 Costo: 0.7474533509639794\n",
      "Iteracion: 7000 Costo: 0.7484828624043917\n",
      "Iteracion: 8000 Costo: 0.7495096442970102\n",
      "Iteracion: 9000 Costo: 0.7505337103709782\n"
     ]
    }
   ],
   "source": [
    "w_init = 0.01 * (np.random.rand(2) - 0.5)\n",
    "b_init = -8\n",
    "w_fin, b_fin = descenso_gradiente(x_init, y_init, w_init, b_init, 0.001, 10000)"
   ]
  },
  {
   "cell_type": "code",
   "execution_count": 15,
   "metadata": {},
   "outputs": [
    {
     "data": {
      "text/plain": [
       "array([0.0712392 , 0.06481427])"
      ]
     },
     "execution_count": 15,
     "metadata": {},
     "output_type": "execute_result"
    }
   ],
   "source": [
    "w_fin"
   ]
  },
  {
   "cell_type": "code",
   "execution_count": 16,
   "metadata": {},
   "outputs": [
    {
     "data": {
      "text/plain": [
       "-8"
      ]
     },
     "execution_count": 16,
     "metadata": {},
     "output_type": "execute_result"
    }
   ],
   "source": [
    "b_init"
   ]
  }
 ],
 "metadata": {
  "kernelspec": {
   "display_name": "Python 3",
   "language": "python",
   "name": "python3"
  },
  "language_info": {
   "codemirror_mode": {
    "name": "ipython",
    "version": 3
   },
   "file_extension": ".py",
   "mimetype": "text/x-python",
   "name": "python",
   "nbconvert_exporter": "python",
   "pygments_lexer": "ipython3",
   "version": "3.13.1"
  }
 },
 "nbformat": 4,
 "nbformat_minor": 2
}
