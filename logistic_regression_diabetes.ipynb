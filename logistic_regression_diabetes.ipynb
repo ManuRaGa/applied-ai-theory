{
 "cells": [
  {
   "cell_type": "markdown",
   "id": "7fa9579e-845d-4443-9878-cf61dd851cd4",
   "metadata": {},
   "source": [
    "# Problema de diagnostico de diabetes\n",
    "<font size=\"4\">\n",
    "Detectar posibles personas con diabetes.</font>"
   ]
  },
  {
   "cell_type": "code",
   "execution_count": 2,
   "id": "dfe7c9ac-5504-4289-85b8-9667d44a803c",
   "metadata": {},
   "outputs": [],
   "source": [
    "import numpy as np\n",
    "import pandas as pd\n",
    "import math\n",
    "from sklearn.model_selection import train_test_split"
   ]
  },
  {
   "cell_type": "code",
   "execution_count": 4,
   "id": "1781a775-20c3-48a1-8a1f-f01887d48f77",
   "metadata": {
    "scrolled": true
   },
   "outputs": [
    {
     "data": {
      "text/html": [
       "<div>\n",
       "<style scoped>\n",
       "    .dataframe tbody tr th:only-of-type {\n",
       "        vertical-align: middle;\n",
       "    }\n",
       "\n",
       "    .dataframe tbody tr th {\n",
       "        vertical-align: top;\n",
       "    }\n",
       "\n",
       "    .dataframe thead th {\n",
       "        text-align: right;\n",
       "    }\n",
       "</style>\n",
       "<table border=\"1\" class=\"dataframe\">\n",
       "  <thead>\n",
       "    <tr style=\"text-align: right;\">\n",
       "      <th></th>\n",
       "      <th>Pregnancies</th>\n",
       "      <th>Glucose</th>\n",
       "      <th>BloodPressure</th>\n",
       "      <th>SkinThickness</th>\n",
       "      <th>Insulin</th>\n",
       "      <th>BMI</th>\n",
       "      <th>DiabetesPedigreeFunction</th>\n",
       "      <th>Age</th>\n",
       "      <th>Outcome</th>\n",
       "    </tr>\n",
       "  </thead>\n",
       "  <tbody>\n",
       "    <tr>\n",
       "      <th>0</th>\n",
       "      <td>6</td>\n",
       "      <td>148</td>\n",
       "      <td>72</td>\n",
       "      <td>35</td>\n",
       "      <td>0</td>\n",
       "      <td>33.6</td>\n",
       "      <td>0.627</td>\n",
       "      <td>50</td>\n",
       "      <td>1</td>\n",
       "    </tr>\n",
       "    <tr>\n",
       "      <th>1</th>\n",
       "      <td>1</td>\n",
       "      <td>85</td>\n",
       "      <td>66</td>\n",
       "      <td>29</td>\n",
       "      <td>0</td>\n",
       "      <td>26.6</td>\n",
       "      <td>0.351</td>\n",
       "      <td>31</td>\n",
       "      <td>0</td>\n",
       "    </tr>\n",
       "    <tr>\n",
       "      <th>2</th>\n",
       "      <td>8</td>\n",
       "      <td>183</td>\n",
       "      <td>64</td>\n",
       "      <td>0</td>\n",
       "      <td>0</td>\n",
       "      <td>23.3</td>\n",
       "      <td>0.672</td>\n",
       "      <td>32</td>\n",
       "      <td>1</td>\n",
       "    </tr>\n",
       "    <tr>\n",
       "      <th>3</th>\n",
       "      <td>1</td>\n",
       "      <td>89</td>\n",
       "      <td>66</td>\n",
       "      <td>23</td>\n",
       "      <td>94</td>\n",
       "      <td>28.1</td>\n",
       "      <td>0.167</td>\n",
       "      <td>21</td>\n",
       "      <td>0</td>\n",
       "    </tr>\n",
       "    <tr>\n",
       "      <th>4</th>\n",
       "      <td>0</td>\n",
       "      <td>137</td>\n",
       "      <td>40</td>\n",
       "      <td>35</td>\n",
       "      <td>168</td>\n",
       "      <td>43.1</td>\n",
       "      <td>2.288</td>\n",
       "      <td>33</td>\n",
       "      <td>1</td>\n",
       "    </tr>\n",
       "  </tbody>\n",
       "</table>\n",
       "</div>"
      ],
      "text/plain": [
       "   Pregnancies  Glucose  BloodPressure  SkinThickness  Insulin   BMI  \\\n",
       "0            6      148             72             35        0  33.6   \n",
       "1            1       85             66             29        0  26.6   \n",
       "2            8      183             64              0        0  23.3   \n",
       "3            1       89             66             23       94  28.1   \n",
       "4            0      137             40             35      168  43.1   \n",
       "\n",
       "   DiabetesPedigreeFunction  Age  Outcome  \n",
       "0                     0.627   50        1  \n",
       "1                     0.351   31        0  \n",
       "2                     0.672   32        1  \n",
       "3                     0.167   21        0  \n",
       "4                     2.288   33        1  "
      ]
     },
     "execution_count": 4,
     "metadata": {},
     "output_type": "execute_result"
    }
   ],
   "source": [
    "# Leer el archivo CSV\n",
    "df = pd.read_csv('diabetes.csv')\n",
    "df.head()"
   ]
  },
  {
   "cell_type": "code",
   "execution_count": 5,
   "id": "95a2c2dd-c43d-45a2-890e-5291d3bee79c",
   "metadata": {},
   "outputs": [
    {
     "name": "stdout",
     "output_type": "stream",
     "text": [
      "Tamaño de x_train: (614, 4)\n",
      "Tamaño de x_test: (154, 4)\n",
      "Tamaño de y_train: (614,)\n",
      "Tamaño de y_test: (154,)\n",
      "Tamaño de x_init: (614, 4)\n",
      "Tamaño de y_init: (614,)\n"
     ]
    }
   ],
   "source": [
    "#X_in = df.drop('Outcome', axis=1)  # Todas las columnas excepto 'Outcome'\n",
    "y_in = df['Outcome']  # Solo la columna 'Outcome'\n",
    "# Convertir a arreglos de NumPy\n",
    "\n",
    "# Seleccionar las columnas deseadas\n",
    "X_in = df[['Glucose', 'Age', 'BloodPressure', 'Insulin']]\n",
    "\n",
    "# Dividir los datos en conjuntos de entrenamiento y prueba\n",
    "x_train, x_test, y_train, y_test = train_test_split(X_in, y_in, test_size=0.2, random_state=42)\n",
    "\n",
    "x_init = x_train.to_numpy()\n",
    "y_init = y_train.to_numpy()\n",
    "\n",
    "# Verificar los tamaños de los conjuntos\n",
    "print(\"Tamaño de x_train:\", x_train.shape)\n",
    "print(\"Tamaño de x_test:\", x_test.shape)\n",
    "print(\"Tamaño de y_train:\", y_train.shape)\n",
    "print(\"Tamaño de y_test:\", y_test.shape)\n",
    "print(\"Tamaño de x_init:\", x_init.shape)\n",
    "print(\"Tamaño de y_init:\", y_init.shape)"
   ]
  },
  {
   "cell_type": "code",
   "execution_count": 6,
   "id": "35221d1f-1027-4753-84a3-a8be94212c2b",
   "metadata": {},
   "outputs": [
    {
     "name": "stdout",
     "output_type": "stream",
     "text": [
      "614\n",
      "4\n",
      "[[ 84  21   0   0]\n",
      " [112  50  82   0]\n",
      " [139  22  46  83]\n",
      " ...\n",
      " [101  38  86   0]\n",
      " [141  29   0   0]\n",
      " [125  21  96   0]]\n",
      "[0 1 0 0 1 0 1 1 0 0 0 1 0 0 0 1 0 1 1 0 0 0 0 0 1 1 0 0 0 1 1 0 0 0 1 0 1\n",
      " 0 1 0 0 0 0 0 1 1 0 0 1 0 0 0 0 0 1 1 0 0 0 0 1 0 0 1 0 0 1 0 0 0 0 0 1 1\n",
      " 0 0 0 0 0 1 0 0 0 0 1 1 0 0 1 0 0 0 0 0 0 0 1 0 1 0 0 0 0 1 0 0 0 1 0 0 0\n",
      " 0 0 0 0 0 0 0 1 1 0 0 0 1 0 0 0 1 1 1 0 0 1 1 0 0 0 0 1 0 1 0 0 1 1 0 0 1\n",
      " 1 0 0 0 0 0 0 1 0 1 1 0 0 0 1 0 0 0 1 1 1 0 1 0 0 0 0 0 0 0 0 1 1 0 1 1 0\n",
      " 0 1 0 0 1 1 1 0 0 0 0 0 1 0 1 0 0 0 0 0 0 0 1 1 0 0 0 0 0 0 0 1 0 1 1 1 0\n",
      " 0 0 0 0 1 1 1 1 0 0 1 0 0 1 1 0 1 1 0 1 0 0 0 1 0 1 0 1 0 0 0 1 1 0 1 0 0\n",
      " 1 0 1 0 0 1 0 0 1 0 0 1 0 1 1 0 0 0 0 1 1 0 1 0 0 1 0 1 0 1 0 0 0 0 1 1 1\n",
      " 1 1 0 0 0 0 1 1 0 0 0 1 0 1 0 0 0 0 0 1 1 0 1 1 1 1 1 0 0 0 0 0 1 1 0 1 1\n",
      " 0 0 1 0 1 0 0 0 0 0 0 1 0 1 0 0 0 1 0 1 1 1 0 0 0 0 0 0 0 0 0 0 0 1 0 0 0\n",
      " 1 0 1 0 0 1 0 1 0 0 0 1 0 0 1 0 0 0 0 1 0 0 0 0 0 1 0 0 0 0 0 0 0 0 1 1 0\n",
      " 0 0 1 0 0 1 0 1 0 1 1 0 0 0 0 0 1 1 1 1 0 0 0 1 1 1 1 0 1 0 0 0 0 0 0 0 0\n",
      " 0 0 0 0 1 0 0 0 0 0 0 0 0 0 1 0 0 0 0 0 1 0 0 0 1 0 1 1 0 0 1 1 0 0 1 0 0\n",
      " 0 0 0 0 1 1 0 1 0 0 1 1 0 1 1 0 0 1 1 0 0 0 0 0 1 1 0 1 0 0 1 1 1 0 0 0 1\n",
      " 1 0 0 1 1 0 0 0 0 1 1 0 1 0 0 0 1 0 1 0 0 0 0 1 0 0 0 0 0 1 0 0 0 0 1 0 1\n",
      " 0 1 0 0 0 1 0 0 1 0 0 1 1 1 1 0 1 0 0 0 1 0 0 1 1 0 0 1 0 0 0 0 0 1 0 0 0\n",
      " 0 0 1 1 1 1 1 0 0 1 0 1 0 0 1 0 0 0 0 1 1 0]\n"
     ]
    }
   ],
   "source": [
    "m,n=x_init.shape\n",
    "print(m)\n",
    "print(n)\n",
    "print(x_init)\n",
    "print(y_init)"
   ]
  },
  {
   "cell_type": "code",
   "execution_count": 7,
   "id": "03a93853-0fd6-493e-8bed-ae28843d4f56",
   "metadata": {},
   "outputs": [],
   "source": [
    "def calc_costo(x, y, w, b):\n",
    "    m, n = x.shape\n",
    "    \n",
    "    costo=0\n",
    "    for i in range (m):\n",
    "        z=np.dot(w,x[i])+b\n",
    "        g=1/(1+np.exp(-z))\n",
    "        m = len(y)  # Número de elementos en y\n",
    "        #costo = costo - (1/m) * np.sum(y[i] * np.log(g) + (1 - y[i]) * np.log(1 - g))\n",
    "        costo = costo - (y[i] * np.log(g) + (1 - y[i]) * np.log(1 - g))\n",
    "    total_cost=costo*(1/m) \n",
    "      \n",
    "    return total_cost"
   ]
  },
  {
   "cell_type": "code",
   "execution_count": 8,
   "id": "9a89e3f2-e7f4-4e1c-908b-5a4819ceacd2",
   "metadata": {},
   "outputs": [
    {
     "name": "stdout",
     "output_type": "stream",
     "text": [
      "Cost at initial w and b (zeros): 0.693\n"
     ]
    }
   ],
   "source": [
    "m, n = x_init.shape\n",
    "\n",
    "# Compute and display cost with w and b initialized to zeros\n",
    "initial_w = np.zeros(n)\n",
    "initial_b = 0.\n",
    "cost = calc_costo(x_init, y_init, initial_w, initial_b)\n",
    "print('Cost at initial w and b (zeros): {:.3f}'.format(cost))"
   ]
  },
  {
   "cell_type": "code",
   "execution_count": 9,
   "id": "5e949a04-1215-4cbc-a61e-8b61a623873a",
   "metadata": {},
   "outputs": [],
   "source": [
    "def calc_descenso_gradiente(x,y,w,b,alpha,iter):\n",
    "    m,n = x.shape \n",
    "    for k in range(iter):\n",
    "        J=calc_costo(x,y,w,b)\n",
    "        if k% math.ceil(iter / 10) == 0:\n",
    "            print(\"Iteracion: {}  Costo : {} \".format(k, J))\n",
    "        if(J<0.01):\n",
    "            break\n",
    "        deriv_w=np.zeros((n,))\n",
    "        deriv_b=0.0\n",
    "        for i in range(m):\n",
    "            fwb=np.dot(x[i],w)+b\n",
    "            g=1/(1+np.exp(-fwb))\n",
    "            y_approx=(g-y[i])\n",
    "            for j in range(n):\n",
    "                deriv_w[j]= deriv_w[j] + y_approx*x[i,j]\n",
    "            deriv_b = deriv_b + y_approx\n",
    "        w= w - alpha * deriv_w/m\n",
    "        b= b - alpha * deriv_b/m\n",
    "    return w,b\n",
    "    "
   ]
  },
  {
   "cell_type": "code",
   "execution_count": 11,
   "id": "48fcbdeb-5b97-49b9-b9c8-99cb5778e155",
   "metadata": {},
   "outputs": [
    {
     "name": "stdout",
     "output_type": "stream",
     "text": [
      "Iteracion: 0  Costo : 2.251029129344171 \n",
      "Iteracion: 100  Costo : 0.694273208836388 \n",
      "Iteracion: 200  Costo : 0.663237980452765 \n",
      "Iteracion: 300  Costo : 0.6579182343299718 \n",
      "Iteracion: 400  Costo : 0.6567899947637345 \n",
      "Iteracion: 500  Costo : 0.6565150513700998 \n",
      "Iteracion: 600  Costo : 0.6564334283414732 \n",
      "Iteracion: 700  Costo : 0.6563979504509442 \n",
      "Iteracion: 800  Costo : 0.6563738290268053 \n",
      "Iteracion: 900  Costo : 0.656352582868145 \n"
     ]
    }
   ],
   "source": [
    "w_init=-0.1 * (np.random.rand(n) - 0.5)\n",
    "b_init=0.8\n",
    "w_fin,b_fin=calc_descenso_gradiente(x_init, y_init, w_init, b_init,0.0001,1000 )"
   ]
  },
  {
   "cell_type": "code",
   "execution_count": 12,
   "id": "370e9cdf-d358-4210-ad70-689852d575ed",
   "metadata": {},
   "outputs": [
    {
     "data": {
      "text/plain": [
       "array([ 0.00876947,  0.01044351, -0.03867747,  0.00043221])"
      ]
     },
     "execution_count": 12,
     "metadata": {},
     "output_type": "execute_result"
    }
   ],
   "source": [
    "w_fin"
   ]
  },
  {
   "cell_type": "code",
   "execution_count": 13,
   "id": "a179e3df-2a81-440a-b851-98d539309760",
   "metadata": {},
   "outputs": [
    {
     "data": {
      "text/plain": [
       "np.float64(0.795135329800581)"
      ]
     },
     "execution_count": 13,
     "metadata": {},
     "output_type": "execute_result"
    }
   ],
   "source": [
    "b_fin"
   ]
  },
  {
   "cell_type": "code",
   "execution_count": null,
   "id": "e9bfe5a3-9002-436d-b8a4-5fe159e53899",
   "metadata": {},
   "outputs": [],
   "source": []
  },
  {
   "cell_type": "code",
   "execution_count": null,
   "id": "52d4e66d-fbbc-48cd-bb43-1f3b4fe0a273",
   "metadata": {},
   "outputs": [],
   "source": []
  },
  {
   "cell_type": "code",
   "execution_count": null,
   "id": "e80c76ae-f3b5-4d58-a7a0-67ff554ff67f",
   "metadata": {},
   "outputs": [],
   "source": []
  },
  {
   "cell_type": "code",
   "execution_count": 49,
   "id": "ed55821f-18a9-4f25-b3bd-c2b2f6681042",
   "metadata": {},
   "outputs": [],
   "source": [
    "x_init=x_train\n",
    "y_init=y_train\n",
    "m, n = x_init.shape\n",
    "w_init = np.zeros(n)\n",
    "b_init = 0."
   ]
  },
  {
   "cell_type": "code",
   "execution_count": 79,
   "id": "67b66b59-e36a-4216-864d-be01f2352cec",
   "metadata": {},
   "outputs": [
    {
     "name": "stdout",
     "output_type": "stream",
     "text": [
      "(614, 4)\n",
      "(614,)\n"
     ]
    }
   ],
   "source": [
    "x_init = x_train[['Glucose', 'Age', 'BloodPressure', 'Insulin']]\n",
    "# Convertir a arreglos de NumPy (opcional)\n",
    "X = x_init.to_numpy()\n",
    "y= y_train.to_numpy()\n",
    "print(X.shape)\n",
    "print(y.shape)"
   ]
  },
  {
   "cell_type": "code",
   "execution_count": 11,
   "id": "777748c7-7183-499e-a2f8-8fa99424f504",
   "metadata": {
    "scrolled": true
   },
   "outputs": [
    {
     "ename": "NameError",
     "evalue": "name 'X' is not defined",
     "output_type": "error",
     "traceback": [
      "\u001b[1;31m---------------------------------------------------------------------------\u001b[0m",
      "\u001b[1;31mNameError\u001b[0m                                 Traceback (most recent call last)",
      "Cell \u001b[1;32mIn[11], line 1\u001b[0m\n\u001b[1;32m----> 1\u001b[0m \u001b[38;5;28mprint\u001b[39m(X)\n\u001b[0;32m      2\u001b[0m \u001b[38;5;28mprint\u001b[39m(y)\n",
      "\u001b[1;31mNameError\u001b[0m: name 'X' is not defined"
     ]
    }
   ],
   "source": [
    "print(X)\n",
    "print(y)"
   ]
  },
  {
   "cell_type": "code",
   "execution_count": 9,
   "id": "0a25cc05-500a-4eb6-9dda-25e81e63633f",
   "metadata": {},
   "outputs": [],
   "source": [
    "#x_train, x_test, y_train, y_test = train_test_split(X, y, test_size=0.2, random_state=42, stratify=y)"
   ]
  },
  {
   "cell_type": "code",
   "execution_count": null,
   "id": "c513ddb2-b63f-4055-a75a-06cc916d5c7b",
   "metadata": {},
   "outputs": [],
   "source": []
  },
  {
   "cell_type": "code",
   "execution_count": null,
   "id": "2af23bf7-24ab-4390-87ff-92cca7c373e4",
   "metadata": {},
   "outputs": [],
   "source": []
  }
 ],
 "metadata": {
  "kernelspec": {
   "display_name": "Python 3",
   "language": "python",
   "name": "python3"
  },
  "language_info": {
   "codemirror_mode": {
    "name": "ipython",
    "version": 3
   },
   "file_extension": ".py",
   "mimetype": "text/x-python",
   "name": "python",
   "nbconvert_exporter": "python",
   "pygments_lexer": "ipython3",
   "version": "3.13.1"
  }
 },
 "nbformat": 4,
 "nbformat_minor": 5
}
