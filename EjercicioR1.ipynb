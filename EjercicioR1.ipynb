{
 "cells": [
  {
   "cell_type": "code",
   "execution_count": 1,
   "metadata": {},
   "outputs": [],
   "source": [
    "import numpy as np\n",
    "import math"
   ]
  },
  {
   "cell_type": "code",
   "execution_count": 2,
   "metadata": {},
   "outputs": [],
   "source": [
    "def cal_cost(x, y, w, b):\n",
    "    m = x.shape[0]\n",
    "    costo = 0\n",
    "    for i in range(m):\n",
    "        costo = costo + (np.dot(x[i], w) + b - y[i]) ** 2\n",
    "    costo = costo / (2 * m)\n",
    "    return costo"
   ]
  },
  {
   "cell_type": "code",
   "execution_count": 3,
   "metadata": {},
   "outputs": [
    {
     "name": "stdout",
     "output_type": "stream",
     "text": [
      "85000.0\n"
     ]
    }
   ],
   "source": [
    "x_init = np.array([1.0, 2.0])\n",
    "y_init = np.array([300.0, 500.0])\n",
    "w_init = 0.0\n",
    "b_init = 0.0\n",
    "\n",
    "a = cal_cost(x_init, y_init, w_init, b_init)\n",
    "print(a)"
   ]
  },
  {
   "cell_type": "code",
   "execution_count": 4,
   "metadata": {},
   "outputs": [],
   "source": [
    "def descenso_gradiente(x, y, w, b, alpha, iters):\n",
    "    m, n = x.shape\n",
    "    for k in range(iters):\n",
    "        J = cal_cost(x, y, w, b)\n",
    "        if k% math.ceil(iters / 10) == 0:\n",
    "            print(\"Iteracion: {} Costo: {}\".format(k, J))\n",
    "        #if J < 5:\n",
    "            #break\n",
    "        dw = np.zeros((n,))\n",
    "        db = 0.0\n",
    "        for i in range(m):\n",
    "            y_aprox = (np.dot(x[i], w) + b - y[i])\n",
    "            for j in range(n):\n",
    "                dw[j] = dw[j] + y_aprox * x[i][j]\n",
    "            db = db + y_aprox\n",
    "        w = w - alpha * dw / m\n",
    "        b = b - alpha * db / m\n",
    "    return w, b"
   ]
  },
  {
   "cell_type": "code",
   "execution_count": 13,
   "metadata": {},
   "outputs": [
    {
     "name": "stdout",
     "output_type": "stream",
     "text": [
      "Iteracion: 0 Costo: 0.16666666666666666\n",
      "Iteracion: 10 Costo: 0.15092107261469173\n",
      "Iteracion: 20 Costo: 0.13863548671165135\n",
      "Iteracion: 30 Costo: 0.12886179639005566\n",
      "Iteracion: 40 Costo: 0.12093261991296546\n",
      "Iteracion: 50 Costo: 0.11437613552911911\n",
      "Iteracion: 60 Costo: 0.10885693693198505\n",
      "Iteracion: 70 Costo: 0.10413494541516811\n",
      "Iteracion: 80 Costo: 0.10003685097825858\n",
      "Iteracion: 90 Costo: 0.09643624819200664\n",
      "[ 6.58541651e-05  1.49124645e-03  5.78145955e-04  3.92742325e-04\n",
      " -4.77982122e-04  2.86284213e-04  6.63610256e-06  5.52772668e-04] 9.153121786300844e-06\n"
     ]
    }
   ],
   "source": [
    "x_init = np.array([[6, 148, 72, 35, 0, 33.6, 0.627, 50], [4, 110, 92, 0, 0, 37.6, 0.191, 30], [3, 126, 88, 41, 235, 39.3, 0.704, 27]])\n",
    "y_init = np.array([1, 0, 0])\n",
    "w_init = np.zeros(x_init.shape[1])\n",
    "b_init = 0\n",
    "a_init = 5.0e-7\n",
    "it_init = 100\n",
    "b, c = descenso_gradiente(x_init, y_init, w_init, b_init, a_init, it_init)\n",
    "print(b, c)"
   ]
  },
  {
   "cell_type": "code",
   "execution_count": 14,
   "metadata": {},
   "outputs": [
    {
     "name": "stdout",
     "output_type": "stream",
     "text": [
      "0.2013257144942724\n"
     ]
    }
   ],
   "source": [
    "precio = 0\n",
    "x_test = np.array([3, 158, 76, 36, 245, 31.6, 0.851, 28])\n",
    "precio = np.dot(b, x_test) + c\n",
    "print(precio)"
   ]
  }
 ],
 "metadata": {
  "kernelspec": {
   "display_name": "Python 3",
   "language": "python",
   "name": "python3"
  },
  "language_info": {
   "codemirror_mode": {
    "name": "ipython",
    "version": 3
   },
   "file_extension": ".py",
   "mimetype": "text/x-python",
   "name": "python",
   "nbconvert_exporter": "python",
   "pygments_lexer": "ipython3",
   "version": "3.11.6"
  }
 },
 "nbformat": 4,
 "nbformat_minor": 2
}
