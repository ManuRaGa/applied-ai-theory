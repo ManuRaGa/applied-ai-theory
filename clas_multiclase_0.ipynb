{
 "cells": [
  {
   "cell_type": "code",
   "execution_count": 5,
   "id": "f87584d3-1141-4ebe-9019-5fe3748b2790",
   "metadata": {},
   "outputs": [],
   "source": [
    "import tensorflow as tf\n",
    "from tensorflow import keras\n",
    "import numpy as np\n",
    "import matplotlib.pyplot as plt"
   ]
  },
  {
   "cell_type": "code",
   "execution_count": 6,
   "id": "4f08f732-f8ab-416a-9b86-de67419f0849",
   "metadata": {},
   "outputs": [],
   "source": [
    "# load dataset\n",
    "X = np.load('X.npy')\n",
    "y = np.load('y.npy')"
   ]
  },
  {
   "cell_type": "code",
   "execution_count": 7,
   "id": "2d6097de",
   "metadata": {},
   "outputs": [],
   "source": [
    "X = np.tile(X,(4,1))\n",
    "y = np.tile(y,(4,1))"
   ]
  },
  {
   "cell_type": "code",
   "execution_count": 8,
   "id": "c0e2805d-7e9f-454d-b6b1-96e132172714",
   "metadata": {},
   "outputs": [
    {
     "name": "stdout",
     "output_type": "stream",
     "text": [
      "Forma de X: (20000, 400)\n",
      "Forma de y: (20000, 1)\n"
     ]
    }
   ],
   "source": [
    "# Verificar las dimensiones de los datos\n",
    "print(f\"Forma de X: {X.shape}\")\n",
    "print(f\"Forma de y: {y.shape}\")"
   ]
  },
  {
   "cell_type": "code",
   "execution_count": 9,
   "id": "f6c89083-b434-4f3f-87f7-ac7432c5072d",
   "metadata": {},
   "outputs": [],
   "source": [
    "# Usaremos un 80% para entrenamiento y un 20% para prueba\n",
    "split_ratio = 0.8\n",
    "split_index = int(X.shape[0] * split_ratio)"
   ]
  },
  {
   "cell_type": "code",
   "execution_count": 10,
   "id": "943cc589-1678-4bb7-a160-f9f8d6ef9771",
   "metadata": {},
   "outputs": [],
   "source": [
    "# Mezclar los datos antes de dividirlos\n",
    "indices = np.arange(X.shape[0])\n",
    "np.random.shuffle(indices)\n",
    "\n",
    "X_shuffled = X[indices]\n",
    "y_shuffled = y[indices]\n",
    "\n",
    "# Dividir los datos\n",
    "X_train, X_test = X_shuffled[:split_index], X_shuffled[split_index:]\n",
    "y_train, y_test = y_shuffled[:split_index], y_shuffled[split_index:]"
   ]
  },
  {
   "cell_type": "code",
   "execution_count": 11,
   "id": "dfddd03a-65c7-4537-be1c-65b4a2c959cc",
   "metadata": {},
   "outputs": [],
   "source": [
    "#Normalizar imágenes (valores de 0-255 a 0-1)\n",
    "X_train, X_test = X_train / 255.0, X_test / 255.0  "
   ]
  },
  {
   "cell_type": "code",
   "execution_count": 12,
   "id": "714eec6d-cf42-4096-bf0a-132b8ff09d77",
   "metadata": {},
   "outputs": [],
   "source": [
    "#Construir el modelo de red neuronal\n",
    "model = keras.Sequential([\n",
    "    keras.Input(shape=(400,)),\n",
    "    keras.layers.Dense(128, activation='relu'),  # Capa oculta con 128 neuronas\n",
    "    keras.layers.Dense(64, activation='relu'),   # Otra capa oculta\n",
    "    keras.layers.Dense(10, activation='softmax') # Capa de salida con 10 clases (0-9)\n",
    "])\n"
   ]
  },
  {
   "cell_type": "code",
   "execution_count": 13,
   "id": "25b12610-8d0f-4e25-9c6c-9ade1702e6db",
   "metadata": {},
   "outputs": [
    {
     "name": "stdout",
     "output_type": "stream",
     "text": [
      "Epoch 1/60\n",
      "\u001b[1m500/500\u001b[0m \u001b[32m━━━━━━━━━━━━━━━━━━━━\u001b[0m\u001b[37m\u001b[0m \u001b[1m5s\u001b[0m 6ms/step - accuracy: 0.3180 - loss: 2.0842 - val_accuracy: 0.7140 - val_loss: 0.9955\n",
      "Epoch 2/60\n",
      "\u001b[1m500/500\u001b[0m \u001b[32m━━━━━━━━━━━━━━━━━━━━\u001b[0m\u001b[37m\u001b[0m \u001b[1m2s\u001b[0m 5ms/step - accuracy: 0.7327 - loss: 0.8769 - val_accuracy: 0.7775 - val_loss: 0.7180\n",
      "Epoch 3/60\n",
      "\u001b[1m500/500\u001b[0m \u001b[32m━━━━━━━━━━━━━━━━━━━━\u001b[0m\u001b[37m\u001b[0m \u001b[1m3s\u001b[0m 5ms/step - accuracy: 0.7937 - loss: 0.6743 - val_accuracy: 0.8202 - val_loss: 0.5993\n",
      "Epoch 4/60\n",
      "\u001b[1m500/500\u001b[0m \u001b[32m━━━━━━━━━━━━━━━━━━━━\u001b[0m\u001b[37m\u001b[0m \u001b[1m3s\u001b[0m 5ms/step - accuracy: 0.8343 - loss: 0.5576 - val_accuracy: 0.8420 - val_loss: 0.5252\n",
      "Epoch 5/60\n",
      "\u001b[1m500/500\u001b[0m \u001b[32m━━━━━━━━━━━━━━━━━━━━\u001b[0m\u001b[37m\u001b[0m \u001b[1m3s\u001b[0m 5ms/step - accuracy: 0.8696 - loss: 0.4653 - val_accuracy: 0.8643 - val_loss: 0.4503\n",
      "Epoch 6/60\n",
      "\u001b[1m500/500\u001b[0m \u001b[32m━━━━━━━━━━━━━━━━━━━━\u001b[0m\u001b[37m\u001b[0m \u001b[1m3s\u001b[0m 6ms/step - accuracy: 0.8820 - loss: 0.4232 - val_accuracy: 0.8783 - val_loss: 0.4070\n",
      "Epoch 7/60\n",
      "\u001b[1m500/500\u001b[0m \u001b[32m━━━━━━━━━━━━━━━━━━━━\u001b[0m\u001b[37m\u001b[0m \u001b[1m3s\u001b[0m 5ms/step - accuracy: 0.8920 - loss: 0.3780 - val_accuracy: 0.8835 - val_loss: 0.3736\n",
      "Epoch 8/60\n",
      "\u001b[1m500/500\u001b[0m \u001b[32m━━━━━━━━━━━━━━━━━━━━\u001b[0m\u001b[37m\u001b[0m \u001b[1m5s\u001b[0m 10ms/step - accuracy: 0.9001 - loss: 0.3553 - val_accuracy: 0.8855 - val_loss: 0.3590\n",
      "Epoch 9/60\n",
      "\u001b[1m500/500\u001b[0m \u001b[32m━━━━━━━━━━━━━━━━━━━━\u001b[0m\u001b[37m\u001b[0m \u001b[1m3s\u001b[0m 7ms/step - accuracy: 0.9028 - loss: 0.3392 - val_accuracy: 0.9047 - val_loss: 0.3282\n",
      "Epoch 10/60\n",
      "\u001b[1m500/500\u001b[0m \u001b[32m━━━━━━━━━━━━━━━━━━━━\u001b[0m\u001b[37m\u001b[0m \u001b[1m3s\u001b[0m 5ms/step - accuracy: 0.9120 - loss: 0.3132 - val_accuracy: 0.9100 - val_loss: 0.3137\n",
      "Epoch 11/60\n",
      "\u001b[1m500/500\u001b[0m \u001b[32m━━━━━━━━━━━━━━━━━━━━\u001b[0m\u001b[37m\u001b[0m \u001b[1m3s\u001b[0m 5ms/step - accuracy: 0.9165 - loss: 0.2968 - val_accuracy: 0.9078 - val_loss: 0.3142\n",
      "Epoch 12/60\n",
      "\u001b[1m500/500\u001b[0m \u001b[32m━━━━━━━━━━━━━━━━━━━━\u001b[0m\u001b[37m\u001b[0m \u001b[1m3s\u001b[0m 5ms/step - accuracy: 0.9217 - loss: 0.2773 - val_accuracy: 0.9158 - val_loss: 0.2879\n",
      "Epoch 13/60\n",
      "\u001b[1m500/500\u001b[0m \u001b[32m━━━━━━━━━━━━━━━━━━━━\u001b[0m\u001b[37m\u001b[0m \u001b[1m3s\u001b[0m 5ms/step - accuracy: 0.9187 - loss: 0.2832 - val_accuracy: 0.9130 - val_loss: 0.2847\n",
      "Epoch 14/60\n",
      "\u001b[1m500/500\u001b[0m \u001b[32m━━━━━━━━━━━━━━━━━━━━\u001b[0m\u001b[37m\u001b[0m \u001b[1m3s\u001b[0m 6ms/step - accuracy: 0.9298 - loss: 0.2523 - val_accuracy: 0.9215 - val_loss: 0.2699\n",
      "Epoch 15/60\n",
      "\u001b[1m500/500\u001b[0m \u001b[32m━━━━━━━━━━━━━━━━━━━━\u001b[0m\u001b[37m\u001b[0m \u001b[1m2s\u001b[0m 4ms/step - accuracy: 0.9231 - loss: 0.2664 - val_accuracy: 0.9218 - val_loss: 0.2629\n",
      "Epoch 16/60\n",
      "\u001b[1m500/500\u001b[0m \u001b[32m━━━━━━━━━━━━━━━━━━━━\u001b[0m\u001b[37m\u001b[0m \u001b[1m2s\u001b[0m 4ms/step - accuracy: 0.9281 - loss: 0.2525 - val_accuracy: 0.9218 - val_loss: 0.2553\n",
      "Epoch 17/60\n",
      "\u001b[1m500/500\u001b[0m \u001b[32m━━━━━━━━━━━━━━━━━━━━\u001b[0m\u001b[37m\u001b[0m \u001b[1m2s\u001b[0m 5ms/step - accuracy: 0.9301 - loss: 0.2472 - val_accuracy: 0.9205 - val_loss: 0.2640\n",
      "Epoch 18/60\n",
      "\u001b[1m500/500\u001b[0m \u001b[32m━━━━━━━━━━━━━━━━━━━━\u001b[0m\u001b[37m\u001b[0m \u001b[1m3s\u001b[0m 5ms/step - accuracy: 0.9331 - loss: 0.2292 - val_accuracy: 0.9230 - val_loss: 0.2490\n",
      "Epoch 19/60\n",
      "\u001b[1m500/500\u001b[0m \u001b[32m━━━━━━━━━━━━━━━━━━━━\u001b[0m\u001b[37m\u001b[0m \u001b[1m3s\u001b[0m 5ms/step - accuracy: 0.9315 - loss: 0.2357 - val_accuracy: 0.9290 - val_loss: 0.2377\n",
      "Epoch 20/60\n",
      "\u001b[1m500/500\u001b[0m \u001b[32m━━━━━━━━━━━━━━━━━━━━\u001b[0m\u001b[37m\u001b[0m \u001b[1m2s\u001b[0m 5ms/step - accuracy: 0.9340 - loss: 0.2221 - val_accuracy: 0.9255 - val_loss: 0.2392\n",
      "Epoch 21/60\n",
      "\u001b[1m500/500\u001b[0m \u001b[32m━━━━━━━━━━━━━━━━━━━━\u001b[0m\u001b[37m\u001b[0m \u001b[1m3s\u001b[0m 6ms/step - accuracy: 0.9370 - loss: 0.2168 - val_accuracy: 0.9345 - val_loss: 0.2265\n",
      "Epoch 22/60\n",
      "\u001b[1m500/500\u001b[0m \u001b[32m━━━━━━━━━━━━━━━━━━━━\u001b[0m\u001b[37m\u001b[0m \u001b[1m3s\u001b[0m 5ms/step - accuracy: 0.9392 - loss: 0.2160 - val_accuracy: 0.9315 - val_loss: 0.2307\n",
      "Epoch 23/60\n",
      "\u001b[1m500/500\u001b[0m \u001b[32m━━━━━━━━━━━━━━━━━━━━\u001b[0m\u001b[37m\u001b[0m \u001b[1m3s\u001b[0m 5ms/step - accuracy: 0.9430 - loss: 0.2011 - val_accuracy: 0.9230 - val_loss: 0.2364\n",
      "Epoch 24/60\n",
      "\u001b[1m500/500\u001b[0m \u001b[32m━━━━━━━━━━━━━━━━━━━━\u001b[0m\u001b[37m\u001b[0m \u001b[1m3s\u001b[0m 5ms/step - accuracy: 0.9423 - loss: 0.2068 - val_accuracy: 0.9310 - val_loss: 0.2193\n",
      "Epoch 25/60\n",
      "\u001b[1m500/500\u001b[0m \u001b[32m━━━━━━━━━━━━━━━━━━━━\u001b[0m\u001b[37m\u001b[0m \u001b[1m3s\u001b[0m 6ms/step - accuracy: 0.9450 - loss: 0.1919 - val_accuracy: 0.9423 - val_loss: 0.2026\n",
      "Epoch 26/60\n",
      "\u001b[1m500/500\u001b[0m \u001b[32m━━━━━━━━━━━━━━━━━━━━\u001b[0m\u001b[37m\u001b[0m \u001b[1m3s\u001b[0m 6ms/step - accuracy: 0.9485 - loss: 0.1773 - val_accuracy: 0.9390 - val_loss: 0.2070\n",
      "Epoch 27/60\n",
      "\u001b[1m500/500\u001b[0m \u001b[32m━━━━━━━━━━━━━━━━━━━━\u001b[0m\u001b[37m\u001b[0m \u001b[1m3s\u001b[0m 5ms/step - accuracy: 0.9475 - loss: 0.1832 - val_accuracy: 0.9433 - val_loss: 0.1931\n",
      "Epoch 28/60\n",
      "\u001b[1m500/500\u001b[0m \u001b[32m━━━━━━━━━━━━━━━━━━━━\u001b[0m\u001b[37m\u001b[0m \u001b[1m2s\u001b[0m 5ms/step - accuracy: 0.9491 - loss: 0.1711 - val_accuracy: 0.9423 - val_loss: 0.1920\n",
      "Epoch 29/60\n",
      "\u001b[1m500/500\u001b[0m \u001b[32m━━━━━━━━━━━━━━━━━━━━\u001b[0m\u001b[37m\u001b[0m \u001b[1m3s\u001b[0m 7ms/step - accuracy: 0.9535 - loss: 0.1704 - val_accuracy: 0.9498 - val_loss: 0.1824\n",
      "Epoch 30/60\n",
      "\u001b[1m500/500\u001b[0m \u001b[32m━━━━━━━━━━━━━━━━━━━━\u001b[0m\u001b[37m\u001b[0m \u001b[1m3s\u001b[0m 6ms/step - accuracy: 0.9542 - loss: 0.1627 - val_accuracy: 0.9455 - val_loss: 0.1838\n",
      "Epoch 31/60\n",
      "\u001b[1m500/500\u001b[0m \u001b[32m━━━━━━━━━━━━━━━━━━━━\u001b[0m\u001b[37m\u001b[0m \u001b[1m3s\u001b[0m 6ms/step - accuracy: 0.9543 - loss: 0.1649 - val_accuracy: 0.9482 - val_loss: 0.1754\n",
      "Epoch 32/60\n",
      "\u001b[1m500/500\u001b[0m \u001b[32m━━━━━━━━━━━━━━━━━━━━\u001b[0m\u001b[37m\u001b[0m \u001b[1m3s\u001b[0m 6ms/step - accuracy: 0.9573 - loss: 0.1519 - val_accuracy: 0.9532 - val_loss: 0.1682\n",
      "Epoch 33/60\n",
      "\u001b[1m500/500\u001b[0m \u001b[32m━━━━━━━━━━━━━━━━━━━━\u001b[0m\u001b[37m\u001b[0m \u001b[1m3s\u001b[0m 5ms/step - accuracy: 0.9582 - loss: 0.1526 - val_accuracy: 0.9515 - val_loss: 0.1655\n",
      "Epoch 34/60\n",
      "\u001b[1m500/500\u001b[0m \u001b[32m━━━━━━━━━━━━━━━━━━━━\u001b[0m\u001b[37m\u001b[0m \u001b[1m3s\u001b[0m 6ms/step - accuracy: 0.9633 - loss: 0.1388 - val_accuracy: 0.9548 - val_loss: 0.1575\n",
      "Epoch 35/60\n",
      "\u001b[1m500/500\u001b[0m \u001b[32m━━━━━━━━━━━━━━━━━━━━\u001b[0m\u001b[37m\u001b[0m \u001b[1m3s\u001b[0m 6ms/step - accuracy: 0.9639 - loss: 0.1334 - val_accuracy: 0.9542 - val_loss: 0.1540\n",
      "Epoch 36/60\n",
      "\u001b[1m500/500\u001b[0m \u001b[32m━━━━━━━━━━━━━━━━━━━━\u001b[0m\u001b[37m\u001b[0m \u001b[1m3s\u001b[0m 6ms/step - accuracy: 0.9627 - loss: 0.1354 - val_accuracy: 0.9513 - val_loss: 0.1564\n",
      "Epoch 37/60\n",
      "\u001b[1m500/500\u001b[0m \u001b[32m━━━━━━━━━━━━━━━━━━━━\u001b[0m\u001b[37m\u001b[0m \u001b[1m3s\u001b[0m 6ms/step - accuracy: 0.9668 - loss: 0.1275 - val_accuracy: 0.9548 - val_loss: 0.1564\n",
      "Epoch 38/60\n",
      "\u001b[1m500/500\u001b[0m \u001b[32m━━━━━━━━━━━━━━━━━━━━\u001b[0m\u001b[37m\u001b[0m \u001b[1m3s\u001b[0m 6ms/step - accuracy: 0.9707 - loss: 0.1141 - val_accuracy: 0.9610 - val_loss: 0.1414\n",
      "Epoch 39/60\n",
      "\u001b[1m500/500\u001b[0m \u001b[32m━━━━━━━━━━━━━━━━━━━━\u001b[0m\u001b[37m\u001b[0m \u001b[1m3s\u001b[0m 6ms/step - accuracy: 0.9680 - loss: 0.1172 - val_accuracy: 0.9603 - val_loss: 0.1423\n",
      "Epoch 40/60\n",
      "\u001b[1m500/500\u001b[0m \u001b[32m━━━━━━━━━━━━━━━━━━━━\u001b[0m\u001b[37m\u001b[0m \u001b[1m3s\u001b[0m 6ms/step - accuracy: 0.9686 - loss: 0.1166 - val_accuracy: 0.9622 - val_loss: 0.1372\n",
      "Epoch 41/60\n",
      "\u001b[1m500/500\u001b[0m \u001b[32m━━━━━━━━━━━━━━━━━━━━\u001b[0m\u001b[37m\u001b[0m \u001b[1m2s\u001b[0m 5ms/step - accuracy: 0.9721 - loss: 0.1025 - val_accuracy: 0.9603 - val_loss: 0.1336\n",
      "Epoch 42/60\n",
      "\u001b[1m500/500\u001b[0m \u001b[32m━━━━━━━━━━━━━━━━━━━━\u001b[0m\u001b[37m\u001b[0m \u001b[1m3s\u001b[0m 5ms/step - accuracy: 0.9744 - loss: 0.1007 - val_accuracy: 0.9572 - val_loss: 0.1437\n",
      "Epoch 43/60\n",
      "\u001b[1m500/500\u001b[0m \u001b[32m━━━━━━━━━━━━━━━━━━━━\u001b[0m\u001b[37m\u001b[0m \u001b[1m3s\u001b[0m 6ms/step - accuracy: 0.9715 - loss: 0.1013 - val_accuracy: 0.9675 - val_loss: 0.1202\n",
      "Epoch 44/60\n",
      "\u001b[1m500/500\u001b[0m \u001b[32m━━━━━━━━━━━━━━━━━━━━\u001b[0m\u001b[37m\u001b[0m \u001b[1m3s\u001b[0m 6ms/step - accuracy: 0.9750 - loss: 0.0977 - val_accuracy: 0.9610 - val_loss: 0.1279\n",
      "Epoch 45/60\n",
      "\u001b[1m500/500\u001b[0m \u001b[32m━━━━━━━━━━━━━━━━━━━━\u001b[0m\u001b[37m\u001b[0m \u001b[1m3s\u001b[0m 6ms/step - accuracy: 0.9724 - loss: 0.0980 - val_accuracy: 0.9695 - val_loss: 0.1172\n",
      "Epoch 46/60\n",
      "\u001b[1m500/500\u001b[0m \u001b[32m━━━━━━━━━━━━━━━━━━━━\u001b[0m\u001b[37m\u001b[0m \u001b[1m3s\u001b[0m 5ms/step - accuracy: 0.9753 - loss: 0.0883 - val_accuracy: 0.9718 - val_loss: 0.1112\n",
      "Epoch 47/60\n",
      "\u001b[1m500/500\u001b[0m \u001b[32m━━━━━━━━━━━━━━━━━━━━\u001b[0m\u001b[37m\u001b[0m \u001b[1m5s\u001b[0m 5ms/step - accuracy: 0.9805 - loss: 0.0797 - val_accuracy: 0.9685 - val_loss: 0.1125\n",
      "Epoch 48/60\n",
      "\u001b[1m500/500\u001b[0m \u001b[32m━━━━━━━━━━━━━━━━━━━━\u001b[0m\u001b[37m\u001b[0m \u001b[1m2s\u001b[0m 5ms/step - accuracy: 0.9779 - loss: 0.0830 - val_accuracy: 0.9703 - val_loss: 0.1091\n",
      "Epoch 49/60\n",
      "\u001b[1m500/500\u001b[0m \u001b[32m━━━━━━━━━━━━━━━━━━━━\u001b[0m\u001b[37m\u001b[0m \u001b[1m2s\u001b[0m 5ms/step - accuracy: 0.9776 - loss: 0.0855 - val_accuracy: 0.9753 - val_loss: 0.1000\n",
      "Epoch 50/60\n",
      "\u001b[1m500/500\u001b[0m \u001b[32m━━━━━━━━━━━━━━━━━━━━\u001b[0m\u001b[37m\u001b[0m \u001b[1m3s\u001b[0m 5ms/step - accuracy: 0.9838 - loss: 0.0731 - val_accuracy: 0.9735 - val_loss: 0.1031\n",
      "Epoch 51/60\n",
      "\u001b[1m500/500\u001b[0m \u001b[32m━━━━━━━━━━━━━━━━━━━━\u001b[0m\u001b[37m\u001b[0m \u001b[1m3s\u001b[0m 6ms/step - accuracy: 0.9818 - loss: 0.0724 - val_accuracy: 0.9770 - val_loss: 0.0928\n",
      "Epoch 52/60\n",
      "\u001b[1m500/500\u001b[0m \u001b[32m━━━━━━━━━━━━━━━━━━━━\u001b[0m\u001b[37m\u001b[0m \u001b[1m3s\u001b[0m 6ms/step - accuracy: 0.9839 - loss: 0.0645 - val_accuracy: 0.9730 - val_loss: 0.0948\n",
      "Epoch 53/60\n",
      "\u001b[1m500/500\u001b[0m \u001b[32m━━━━━━━━━━━━━━━━━━━━\u001b[0m\u001b[37m\u001b[0m \u001b[1m3s\u001b[0m 6ms/step - accuracy: 0.9847 - loss: 0.0610 - val_accuracy: 0.9737 - val_loss: 0.0904\n",
      "Epoch 54/60\n",
      "\u001b[1m500/500\u001b[0m \u001b[32m━━━━━━━━━━━━━━━━━━━━\u001b[0m\u001b[37m\u001b[0m \u001b[1m2s\u001b[0m 5ms/step - accuracy: 0.9844 - loss: 0.0687 - val_accuracy: 0.9787 - val_loss: 0.0831\n",
      "Epoch 55/60\n",
      "\u001b[1m500/500\u001b[0m \u001b[32m━━━━━━━━━━━━━━━━━━━━\u001b[0m\u001b[37m\u001b[0m \u001b[1m2s\u001b[0m 5ms/step - accuracy: 0.9865 - loss: 0.0593 - val_accuracy: 0.9768 - val_loss: 0.0871\n",
      "Epoch 56/60\n",
      "\u001b[1m500/500\u001b[0m \u001b[32m━━━━━━━━━━━━━━━━━━━━\u001b[0m\u001b[37m\u001b[0m \u001b[1m3s\u001b[0m 6ms/step - accuracy: 0.9882 - loss: 0.0508 - val_accuracy: 0.9768 - val_loss: 0.0802\n",
      "Epoch 57/60\n",
      "\u001b[1m500/500\u001b[0m \u001b[32m━━━━━━━━━━━━━━━━━━━━\u001b[0m\u001b[37m\u001b[0m \u001b[1m3s\u001b[0m 5ms/step - accuracy: 0.9884 - loss: 0.0517 - val_accuracy: 0.9795 - val_loss: 0.0836\n",
      "Epoch 58/60\n",
      "\u001b[1m500/500\u001b[0m \u001b[32m━━━━━━━━━━━━━━━━━━━━\u001b[0m\u001b[37m\u001b[0m \u001b[1m3s\u001b[0m 6ms/step - accuracy: 0.9880 - loss: 0.0497 - val_accuracy: 0.9795 - val_loss: 0.0793\n",
      "Epoch 59/60\n",
      "\u001b[1m500/500\u001b[0m \u001b[32m━━━━━━━━━━━━━━━━━━━━\u001b[0m\u001b[37m\u001b[0m \u001b[1m3s\u001b[0m 6ms/step - accuracy: 0.9887 - loss: 0.0500 - val_accuracy: 0.9837 - val_loss: 0.0678\n",
      "Epoch 60/60\n",
      "\u001b[1m500/500\u001b[0m \u001b[32m━━━━━━━━━━━━━━━━━━━━\u001b[0m\u001b[37m\u001b[0m \u001b[1m3s\u001b[0m 6ms/step - accuracy: 0.9903 - loss: 0.0461 - val_accuracy: 0.9852 - val_loss: 0.0671\n"
     ]
    },
    {
     "data": {
      "text/plain": [
       "<keras.src.callbacks.history.History at 0x173f0dcd3d0>"
      ]
     },
     "execution_count": 13,
     "metadata": {},
     "output_type": "execute_result"
    }
   ],
   "source": [
    "#Compilar el modelo con entropía cruzada categórica\n",
    "model.compile(optimizer='adam',\n",
    "              loss='sparse_categorical_crossentropy',\n",
    "              metrics=['accuracy'])\n",
    "\n",
    "#Entrenar el modelo\n",
    "model.fit(X_train, y_train, epochs=60, validation_data=(X_test, y_test))\n"
   ]
  },
  {
   "cell_type": "code",
   "execution_count": 14,
   "id": "0d4cb538-cf36-408c-84d4-ad4cddab5830",
   "metadata": {},
   "outputs": [
    {
     "name": "stdout",
     "output_type": "stream",
     "text": [
      "\u001b[1m125/125\u001b[0m \u001b[32m━━━━━━━━━━━━━━━━━━━━\u001b[0m\u001b[37m\u001b[0m \u001b[1m1s\u001b[0m 4ms/step - accuracy: 0.9853 - loss: 0.0617\n",
      "\n",
      " Precisión en el conjunto de prueba: 0.9852\n",
      "\u001b[1m125/125\u001b[0m \u001b[32m━━━━━━━━━━━━━━━━━━━━\u001b[0m\u001b[37m\u001b[0m \u001b[1m0s\u001b[0m 3ms/step\n"
     ]
    }
   ],
   "source": [
    "# Evaluar el modelo\n",
    "test_loss, test_acc = model.evaluate(X_test, y_test)\n",
    "print(f\"\\n Precisión en el conjunto de prueba: {test_acc:.4f}\")\n",
    "\n",
    "#Hacer una predicción y mostrar una imagen con su predicción\n",
    "predictions = model.predict(X_test)"
   ]
  },
  {
   "cell_type": "code",
   "execution_count": 15,
   "id": "c4d33ba7-af78-4006-a2a0-8891afe3e7ae",
   "metadata": {},
   "outputs": [
    {
     "data": {
      "image/png": "[encoded data removed]",
      "text/plain": [
       "<Figure size 640x480 with 1 Axes>"
      ]
     },
     "metadata": {},
     "output_type": "display_data"
    }
   ],
   "source": [
    "index = np.random.randint(0, len(X_test))  # Escoge una imagen aleatoria\n",
    "image = X_test[index].reshape(20, 20)  # Reconstruye la imagen de 20x20\n",
    "\n",
    "# Mostrar la imagen y su predicción\n",
    "plt.imshow(image, cmap='gray')\n",
    "plt.title(f\"Predicción: {np.argmax(predictions[index])} , real: {y_test[index]}\")\n",
    "plt.axis('off')\n",
    "plt.show()"
   ]
  },
  {
   "cell_type": "code",
   "execution_count": 16,
   "id": "05bca3a9-d807-489d-8cf6-727a03251b49",
   "metadata": {},
   "outputs": [
    {
     "data": {
      "text/plain": [
       "(4000, 10)"
      ]
     },
     "execution_count": 16,
     "metadata": {},
     "output_type": "execute_result"
    }
   ],
   "source": [
    "predictions.shape"
   ]
  },
  {
   "cell_type": "code",
   "execution_count": 17,
   "id": "582e5f8e-e447-4ab9-b3e9-e73316d90ca2",
   "metadata": {},
   "outputs": [
    {
     "data": {
      "text/plain": [
       "array([3], dtype=uint8)"
      ]
     },
     "execution_count": 17,
     "metadata": {},
     "output_type": "execute_result"
    }
   ],
   "source": [
    "y_test[104]"
   ]
  },
  {
   "cell_type": "code",
   "execution_count": 18,
   "id": "4c4a023e-19a3-449d-bd91-0647a6b895c6",
   "metadata": {},
   "outputs": [
    {
     "data": {
      "text/plain": [
       "array([[5.2049698e-10, 9.9880472e-14, 7.9664114e-06, ..., 9.9741399e-01,\n",
       "        3.6204244e-06, 1.6004170e-03],\n",
       "       [3.9680533e-08, 3.8046866e-12, 9.6490066e-06, ..., 2.4717268e-20,\n",
       "        9.9755015e-10, 4.5014121e-16],\n",
       "       [1.7005945e-14, 3.7570160e-09, 2.9400037e-12, ..., 2.5147611e-09,\n",
       "        5.2960814e-08, 1.0526958e-06],\n",
       "       ...,\n",
       "       [5.5431624e-09, 2.9413172e-10, 4.8393589e-10, ..., 1.9068366e-16,\n",
       "        9.2214480e-04, 4.4861643e-09],\n",
       "       [9.9881303e-01, 3.3744882e-13, 1.0843281e-06, ..., 4.4364533e-08,\n",
       "        1.7093207e-10, 6.7612124e-11],\n",
       "       [1.4546804e-10, 1.4103344e-20, 3.7853934e-10, ..., 9.9993050e-01,\n",
       "        2.4711674e-12, 9.5971835e-08]], dtype=float32)"
      ]
     },
     "execution_count": 18,
     "metadata": {},
     "output_type": "execute_result"
    }
   ],
   "source": [
    "predictions"
   ]
  },
  {
   "cell_type": "code",
   "execution_count": 19,
   "id": "14386205-5c24-420e-930d-2d93b1c6fc25",
   "metadata": {
    "scrolled": true
   },
   "outputs": [
    {
     "data": {
      "text/plain": [
       "array([7, 6, 4, ..., 3, 0, 7])"
      ]
     },
     "execution_count": 19,
     "metadata": {},
     "output_type": "execute_result"
    }
   ],
   "source": [
    "pred_labels = np.argmax(predictions, axis=1)\n",
    "pred_labels"
   ]
  },
  {
   "cell_type": "code",
   "execution_count": 20,
   "id": "404d2f6d-0ed5-4b17-8be0-25619f99c10d",
   "metadata": {},
   "outputs": [
    {
     "data": {
      "text/plain": [
       "np.float64(0.100120375)"
      ]
     },
     "execution_count": 20,
     "metadata": {},
     "output_type": "execute_result"
    }
   ],
   "source": [
    "accuracy = np.mean(pred_labels == y_test)\n",
    "accuracy"
   ]
  },
  {
   "cell_type": "code",
   "execution_count": 21,
   "id": "3e77d7cf-6b2f-4e62-bbe3-971ce06bd515",
   "metadata": {},
   "outputs": [
    {
     "name": "stdout",
     "output_type": "stream",
     "text": [
      "\u001b[1m125/125\u001b[0m \u001b[32m━━━━━━━━━━━━━━━━━━━━\u001b[0m\u001b[37m\u001b[0m \u001b[1m0s\u001b[0m 3ms/step - accuracy: 0.9853 - loss: 0.0617\n"
     ]
    }
   ],
   "source": [
    "loss, accuracy = model.evaluate(X_test, y_test)"
   ]
  }
 ],
 "metadata": {
  "kernelspec": {
   "display_name": "Python 3",
   "language": "python",
   "name": "python3"
  },
  "language_info": {
   "codemirror_mode": {
    "name": "ipython",
    "version": 3
   },
   "file_extension": ".py",
   "mimetype": "text/x-python",
   "name": "python",
   "nbconvert_exporter": "python",
   "pygments_lexer": "ipython3",
   "version": "3.11.6"
  }
 },
 "nbformat": 4,
 "nbformat_minor": 5
}
