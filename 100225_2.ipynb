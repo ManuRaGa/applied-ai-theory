{
 "cells": [
  {
   "cell_type": "code",
   "execution_count": 2,
   "metadata": {},
   "outputs": [],
   "source": [
    "import numpy as np\n",
    "import matplotlib.pyplot as plt\n",
    "from sklearn.linear_model import LinearRegression, Ridge\n",
    "from sklearn.preprocessing import StandardScaler, PolynomialFeatures\n",
    "from sklearn.model_selection import train_test_split\n",
    "from sklearn.metrics import mean_squared_error\n",
    "import tensorflow as tf\n",
    "from tensorflow.keras.models import Sequential\n",
    "from tensorflow.keras.layers import Dense\n",
    "from tensorflow.keras.activations import relu,linear\n",
    "from tensorflow.keras.losses import SparseCategoricalCrossentropy\n",
    "from tensorflow.keras.optimizers import Adam"
   ]
  },
  {
   "cell_type": "code",
   "execution_count": 3,
   "metadata": {},
   "outputs": [],
   "source": [
    "def gen_data(m, seed=1, scale=0.7):\n",
    "    \"\"\" generate a data set based on a x^2 with added noise \"\"\"\n",
    "    c = 0\n",
    "    x_train = np.linspace(0,49,m)\n",
    "    np.random.seed(seed)\n",
    "    y_ideal = x_train**2 + c\n",
    "    y_train = y_ideal + scale * y_ideal*(np.random.sample((m,))-0.5)\n",
    "    x_ideal = x_train #for redraw when new data included in X\n",
    "    return x_train, y_train, x_ideal, y_ideal"
   ]
  },
  {
   "cell_type": "code",
   "execution_count": 4,
   "metadata": {},
   "outputs": [
    {
     "name": "stdout",
     "output_type": "stream",
     "text": [
      "X.shape (40,) y.shape (40,)\n",
      "X_train.shape (24,) y_train.shape (24,)\n",
      "X_cv.shape (8,) y_cv.shape (8,)\n",
      "X_test.shape (8,) y_test.shape (8,)\n"
     ]
    }
   ],
   "source": [
    "# Generate  data\n",
    "X,y, x_ideal,y_ideal = gen_data(40, 5, 0.7)\n",
    "print(\"X.shape\", X.shape, \"y.shape\", y.shape)\n",
    "\n",
    "#split the data using sklearn routine \n",
    "X_train, X_, y_train, y_ = train_test_split(X,y,test_size=0.40, random_state=1)\n",
    "X_cv, X_test, y_cv, y_test = train_test_split(X_,y_,test_size=0.50, random_state=1)\n",
    "print(\"X_train.shape\", X_train.shape, \"y_train.shape\", y_train.shape)\n",
    "print(\"X_cv.shape\", X_cv.shape, \"y_cv.shape\", y_cv.shape)\n",
    "print(\"X_test.shape\", X_test.shape, \"y_test.shape\", y_test.shape)"
   ]
  }
 ],
 "metadata": {
  "kernelspec": {
   "display_name": "Python 3",
   "language": "python",
   "name": "python3"
  },
  "language_info": {
   "codemirror_mode": {
    "name": "ipython",
    "version": 3
   },
   "file_extension": ".py",
   "mimetype": "text/x-python",
   "name": "python",
   "nbconvert_exporter": "python",
   "pygments_lexer": "ipython3",
   "version": "3.11.6"
  }
 },
 "nbformat": 4,
 "nbformat_minor": 2
}
